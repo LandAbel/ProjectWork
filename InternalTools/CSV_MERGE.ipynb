{
 "cells": [
  {
   "cell_type": "code",
   "execution_count": 13,
   "metadata": {},
   "outputs": [],
   "source": [
    "import os"
   ]
  },
  {
   "cell_type": "code",
   "execution_count": 14,
   "metadata": {},
   "outputs": [],
   "source": [
    "os.chdir(\"C:/Users/Ábel/Desktop/Prog_nyelvek/ProjectWork/Algorithms/\")"
   ]
  },
  {
   "cell_type": "code",
   "execution_count": 15,
   "metadata": {},
   "outputs": [],
   "source": [
    "import pandas as pd\n",
    "import sys\n",
    "import re"
   ]
  },
  {
   "cell_type": "markdown",
   "metadata": {},
   "source": [
    "CSV read from file"
   ]
  },
  {
   "cell_type": "code",
   "execution_count": 16,
   "metadata": {},
   "outputs": [],
   "source": [
    "def read_csv_from_file(filename):\n",
    "    try:\n",
    "        return pd.read_csv(filename)\n",
    "    except FileNotFoundError:\n",
    "        print(f\"Error: File '{filename}' not found.\")\n",
    "        sys.exit(1)\n",
    "    except pd.errors.ParserError:\n",
    "        print(f\"Error: Could not parse CSV from file '{filename}'.\")\n",
    "        sys.exit(1)\n"
   ]
  },
  {
   "cell_type": "markdown",
   "metadata": {},
   "source": [
    "Merge 2 CSV file"
   ]
  },
  {
   "cell_type": "code",
   "execution_count": 17,
   "metadata": {},
   "outputs": [],
   "source": [
    "def merge_csv_files(file1, file2):\n",
    "    csv1 = read_csv_from_file(file1)\n",
    "    csv2 = read_csv_from_file(file2)\n",
    "\n",
    "    merged_csv = pd.concat([csv1, csv2], ignore_index=True, sort=False)\n",
    "    return merged_csv"
   ]
  },
  {
   "cell_type": "markdown",
   "metadata": {},
   "source": [
    "Extract common name"
   ]
  },
  {
   "cell_type": "code",
   "execution_count": 18,
   "metadata": {},
   "outputs": [],
   "source": [
    "def extract_common_name(pattern, filename):\n",
    "    pattern_full = pattern + r\"_([^\\d]+)\"\n",
    "    match = re.search(pattern_full, filename)\n",
    "    if match:\n",
    "        return match.group()\n",
    "    else:\n",
    "        print(f\"Warning: Could not find expected common name in filename '{filename}'.\")\n",
    "        return \"unknown\"\n",
    "    "
   ]
  },
  {
   "cell_type": "markdown",
   "metadata": {},
   "source": [
    "Find and extract date range (file_2024-04-06_2024-05-05 --> 2024-04-06_2024-05-05)"
   ]
  },
  {
   "cell_type": "code",
   "execution_count": 19,
   "metadata": {},
   "outputs": [],
   "source": [
    "def extract_date_range(filename):\n",
    "    pattern = r\"(\\d{4}-\\d{2}-\\d{2})\"\n",
    "    matches = re.findall(pattern, filename)\n",
    "    if matches and len(matches) == 2:\n",
    "        return matches\n",
    "    else:\n",
    "        print(f\"Warning: Could not find expected date range in filename '{filename}'.\")\n",
    "        return [\"unknown\", \"unknown\"]\n",
    "    "
   ]
  },
  {
   "cell_type": "markdown",
   "metadata": {},
   "source": [
    "Generate the filename with correct dates and common name(file_2024-04-06_2024-05-05 + file_2024-04-05_2024-05-10 --> file_2024-04-06_2024-05-10)"
   ]
  },
  {
   "cell_type": "code",
   "execution_count": 20,
   "metadata": {},
   "outputs": [],
   "source": [
    "def generate_merged_filename(pattern, file1, file2):\n",
    "\n",
    "    date_range1 = extract_date_range(file1)\n",
    "    date_range2 = extract_date_range(file2)\n",
    "\n",
    "\n",
    "    start_date = min(date_range1[0], date_range2[0])\n",
    "    end_date = max(date_range1[1], date_range2[1])\n",
    "\n",
    "    common_name = extract_common_name(pattern,file1)\n",
    "    \n",
    "    merged_filename = f\"{common_name}{start_date}_{end_date}.csv\"\n",
    "    return merged_filename\n"
   ]
  },
  {
   "cell_type": "markdown",
   "metadata": {},
   "source": [
    "Save the new combined file with the new name"
   ]
  },
  {
   "cell_type": "code",
   "execution_count": 21,
   "metadata": {},
   "outputs": [],
   "source": [
    "def merge_csv_files_and_save(pattern,path, file1, file2):\n",
    "    merged_csv = merge_csv_files(file1, file2)\n",
    "\n",
    "    merged_filename = path+ generate_merged_filename(pattern, file1, file2)\n",
    "\n",
    "    merged_csv.to_csv(merged_filename, index=False)\n",
    "    \n",
    "    print(f\"Merged content written to '{merged_filename}'\")"
   ]
  },
  {
   "cell_type": "code",
   "execution_count": 22,
   "metadata": {},
   "outputs": [
    {
     "name": "stdout",
     "output_type": "stream",
     "text": [
      "Merged content written to 'Data/AverageSent/average_sentiments_Berkshire Hathaway_2024-04-06_2024-05-10.csv'\n"
     ]
    }
   ],
   "source": [
    "merge_csv_files_and_save(\"average_sentiments\", \"Data/AverageSent/\", \"Data/AverageSent/average_sentiments_Berkshire Hathaway_2024-04-06_2024-05-05.csv\", \"Data/AverageSent/average_sentiments_Berkshire Hathaway_2024-05-05_2024-05-10.csv\")"
   ]
  }
 ],
 "metadata": {
  "kernelspec": {
   "display_name": "ProjectWork",
   "language": "python",
   "name": "python3"
  },
  "language_info": {
   "codemirror_mode": {
    "name": "ipython",
    "version": 3
   },
   "file_extension": ".py",
   "mimetype": "text/x-python",
   "name": "python",
   "nbconvert_exporter": "python",
   "pygments_lexer": "ipython3",
   "version": "3.10.11"
  }
 },
 "nbformat": 4,
 "nbformat_minor": 2
}
