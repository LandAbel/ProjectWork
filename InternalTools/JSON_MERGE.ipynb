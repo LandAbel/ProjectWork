{
 "cells": [
  {
   "cell_type": "markdown",
   "metadata": {},
   "source": [
    "Deep merge install"
   ]
  },
  {
   "cell_type": "code",
   "execution_count": 2,
   "metadata": {},
   "outputs": [
    {
     "name": "stdout",
     "output_type": "stream",
     "text": [
      "Requirement already satisfied: deepmerge in c:\\users\\ábel\\desktop\\prog_nyelvek\\projectwork\\lib\\site-packages (1.1.1)\n"
     ]
    }
   ],
   "source": [
    "!pip3 install deepmerge"
   ]
  },
  {
   "cell_type": "markdown",
   "metadata": {},
   "source": [
    "Import necessary packages"
   ]
  },
  {
   "cell_type": "code",
   "execution_count": 3,
   "metadata": {},
   "outputs": [],
   "source": [
    "import json\n",
    "from deepmerge import Merger\n",
    "import sys\n",
    "import re\n",
    "import os"
   ]
  },
  {
   "cell_type": "markdown",
   "metadata": {},
   "source": [
    "Setting working directory"
   ]
  },
  {
   "cell_type": "code",
   "execution_count": 4,
   "metadata": {},
   "outputs": [],
   "source": [
    "os.chdir(\"C:/Users/Ábel/Desktop/Prog_nyelvek/ProjectWork/Algorithms/\")"
   ]
  },
  {
   "cell_type": "markdown",
   "metadata": {},
   "source": [
    "Creating deep merge strategy"
   ]
  },
  {
   "cell_type": "markdown",
   "metadata": {},
   "source": [
    "```python3\n",
    "(dict, \"merge\")\n",
    "```\n",
    "Deep merge for nested dict.'s\n",
    "```python3\n",
    "[\"override\"], \n",
    "```\n",
    "Override for conflicting data types\n",
    "```python3\n",
    "[\"override\"] \n",
    "```\n",
    "Override when there are conflicting values in with the same type\n"
   ]
  },
  {
   "cell_type": "code",
   "execution_count": 5,
   "metadata": {},
   "outputs": [],
   "source": [
    "merger = Merger(\n",
    "    [\n",
    "        (dict, \"merge\"),\n",
    "        (list, \"append\"),\n",
    "    ],\n",
    "    [\"override\"],\n",
    "    [\"override\"]\n",
    ")"
   ]
  },
  {
   "cell_type": "markdown",
   "metadata": {},
   "source": [
    "Extract common name"
   ]
  },
  {
   "cell_type": "code",
   "execution_count": 6,
   "metadata": {},
   "outputs": [],
   "source": [
    "def extract_common_name(pattern, filename):\n",
    "    pattern_full = pattern + r\"_([^\\d]+)\"\n",
    "    match = re.search(pattern_full, filename)\n",
    "    if match:\n",
    "        return match.group()\n",
    "    else:\n",
    "        print(f\"Warning: Could not find expected common name in filename '{filename}'.\")\n",
    "        return \"unknown\"\n",
    "    "
   ]
  },
  {
   "cell_type": "markdown",
   "metadata": {},
   "source": [
    "Find and extract date range (file_2024-04-06_2024-05-05 --> 2024-04-06_2024-05-05)"
   ]
  },
  {
   "cell_type": "code",
   "execution_count": 7,
   "metadata": {},
   "outputs": [],
   "source": [
    "def extract_date_range(filename):\n",
    "    pattern = r\"(\\d{4}-\\d{2}-\\d{2})\"\n",
    "    matches = re.findall(pattern, filename)\n",
    "    if matches and len(matches) == 2:\n",
    "        return matches\n",
    "    else:\n",
    "        print(f\"Warning: Could not find expected date range in filename '{filename}'.\")\n",
    "        return [\"unknown\", \"unknown\"]"
   ]
  },
  {
   "cell_type": "markdown",
   "metadata": {},
   "source": [
    "Generate the filename with correct dates and common name(file_2024-04-06_2024-05-05 + file_2024-04-05_2024-05-10 --> file_2024-04-06_2024-05-10)"
   ]
  },
  {
   "cell_type": "code",
   "execution_count": 8,
   "metadata": {},
   "outputs": [],
   "source": [
    "def generate_merged_filename(pattern, file1, file2):\n",
    "    \n",
    "    date_range1 = extract_date_range(file1)\n",
    "    date_range2 = extract_date_range(file2)\n",
    "\n",
    "\n",
    "    start_date = min(date_range1[0], date_range2[0])\n",
    "    end_date = max(date_range1[1], date_range2[1])\n",
    "\n",
    "    common_name = extract_common_name(pattern,file1)\n",
    "    \n",
    "    merged_filename = f\"{common_name}{start_date}_{end_date}.json\"\n",
    "    return merged_filename"
   ]
  },
  {
   "cell_type": "markdown",
   "metadata": {},
   "source": [
    "Read Json file"
   ]
  },
  {
   "cell_type": "code",
   "execution_count": 9,
   "metadata": {},
   "outputs": [],
   "source": [
    "def read_json_from_file(filename):\n",
    "    try:\n",
    "        with open(filename, 'r', encoding='utf-8') as file:\n",
    "            return json.load(file)\n",
    "    except FileNotFoundError:\n",
    "        print(f\"Error: File '{filename}' not found.\")\n",
    "        sys.exit(1)\n",
    "    except json.JSONDecodeError:\n",
    "        print(f\"Error: Could not decode JSON from file '{filename}'.\")\n",
    "        sys.exit(1)"
   ]
  },
  {
   "cell_type": "markdown",
   "metadata": {},
   "source": [
    "Save the new combined file with the new name"
   ]
  },
  {
   "cell_type": "code",
   "execution_count": 15,
   "metadata": {},
   "outputs": [],
   "source": [
    "def merge_json_files_and_save(pattern, path, file1, file2):\n",
    "    json1 = read_json_from_file(file1)\n",
    "    json2 = read_json_from_file(file2)\n",
    "\n",
    "    merged_json = merger.merge(json1, json2)\n",
    "\n",
    "    merged_filename = path + generate_merged_filename(pattern, file1, file2)\n",
    "\n",
    "    with open(merged_filename, 'w', encoding='utf-8') as file:\n",
    "        json.dump(merged_json, file, indent=2)\n",
    "\n",
    "    print(f\"Merged content written to '{merged_filename}'\")"
   ]
  },
  {
   "cell_type": "code",
   "execution_count": 18,
   "metadata": {},
   "outputs": [
    {
     "name": "stdout",
     "output_type": "stream",
     "text": [
      "Merged content written to 'Data/FullJson/fullout_all_articles_Berkshire Hathaway_2024-04-06_2024-05-10.json'\n"
     ]
    }
   ],
   "source": [
    "merge_json_files_and_save(\"fullout_all_articles\", \"Data/FullJson/\",\"Data/FullJson/fullout_all_articles_Berkshire Hathaway_2024-04-06_2024-05-05.json\", \"Data/FullJson/fullout_all_articles_Berkshire Hathaway_2024-05-05_2024-05-10.json\")"
   ]
  },
  {
   "cell_type": "code",
   "execution_count": null,
   "metadata": {},
   "outputs": [],
   "source": []
  }
 ],
 "metadata": {
  "kernelspec": {
   "display_name": "ProjectWork",
   "language": "python",
   "name": "python3"
  },
  "language_info": {
   "codemirror_mode": {
    "name": "ipython",
    "version": 3
   },
   "file_extension": ".py",
   "mimetype": "text/x-python",
   "name": "python",
   "nbconvert_exporter": "python",
   "pygments_lexer": "ipython3",
   "version": "3.10.11"
  }
 },
 "nbformat": 4,
 "nbformat_minor": 2
}
